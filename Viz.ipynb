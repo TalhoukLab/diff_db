{
 "cells": [
  {
   "cell_type": "code",
   "execution_count": null,
   "metadata": {},
   "outputs": [],
   "source": [
    "from bokeh.io import push_notebook, show, output_notebook\n",
    "from bokeh.layouts import row\n",
    "from bokeh.plotting import figure\n",
    "import subprocess\n",
    "from bokeh.io.export import get_screenshot_as_png\n",
    "import sqlite3\n",
    "import time\n",
    "\n",
    "output_notebook()"
   ]
  },
  {
   "cell_type": "code",
   "execution_count": null,
   "metadata": {},
   "outputs": [],
   "source": [
    "database_1 = \"./Data/test.db\"\n",
    "database_2 = \"./Data/test2.db\""
   ]
  },
  {
   "cell_type": "code",
   "execution_count": null,
   "metadata": {},
   "outputs": [],
   "source": [
    "conn = sqlite3.connect(database_1)\n",
    "cursor = conn.cursor()\n",
    "cursor.execute(\"SELECT name FROM sqlite_master WHERE type='table';\")\n",
    "table_names = cursor.fetchall()\n",
    "\n",
    "cursor.close()\n",
    "conn.close()\n",
    "\n",
    "for name in table_names:\n",
    "    print(name[0])\n",
    "\n",
    "\n",
    "return_code = subprocess.check_output([\"./sqldiff.exe\", database_1, database_2])\n",
    "output = return_code.decode(\"utf-8\").splitlines()\n",
    "inserts = [line for line in output if line.startswith(\"INSERT\")]\n",
    "updates = [line for line in output if line.startswith(\"UPDATE\")]\n",
    "deletes = [line for line in output if line.startswith(\"DELETE\")]\n",
    "\n",
    "#print({'inserts': inserts, 'updates': updates, 'deletes': deletes})\n",
    "\n",
    "p = figure(x_range=['inserts', 'updates', 'deletes'],  title=\"Change in records between two databases\")\n",
    "p.vbar(x=['inserts', 'updates', 'deletes'], top=[len(inserts), len(updates), len(deletes)], width=0.9)\n",
    "\n",
    "t = show(p,  notebook_handle=True)"
   ]
  },
  {
   "cell_type": "code",
   "execution_count": null,
   "metadata": {},
   "outputs": [],
   "source": [
    "tables_altered = {'updated':[], 'insertions':[], 'deletions':[]}\n",
    "total_tables_altered = set()\n",
    "\n",
    "for i in range(len(updates)):\n",
    "    x = updates[i].split()[1]\n",
    "    print(x)\n",
    "    tables_altered.get('updated').append(x)\n",
    "    total_tables_altered.add(x)\n",
    "\n",
    "for i in range(len(inserts)):\n",
    "    x = inserts[i].split()[2].split('(')[0]\n",
    "    print(x)\n",
    "    tables_altered.get('insertions').append(x)\n",
    "    total_tables_altered.add(x)\n",
    "\n",
    "for i in range(len(deletes)):\n",
    "    x = deletes[i].split()[2]\n",
    "    print(x)\n",
    "    tables_altered.get('deletions').append(x)\n",
    "    total_tables_altered.add(x)\n",
    "\n",
    "tables_altered"
   ]
  },
  {
   "cell_type": "code",
   "execution_count": null,
   "metadata": {},
   "outputs": [],
   "source": [
    "inserts = inserts # * 1000"
   ]
  },
  {
   "cell_type": "code",
   "execution_count": null,
   "metadata": {},
   "outputs": [],
   "source": [
    "table = inserts[0][12:].split('(')[0]\n",
    "values_changed = inserts[0][12:].split('(')[1].split(')')[0].split(',')\n",
    "\n",
    "table"
   ]
  },
  {
   "cell_type": "code",
   "execution_count": null,
   "metadata": {},
   "outputs": [],
   "source": [
    "inserts[0][12:].split('(')[2:]"
   ]
  },
  {
   "cell_type": "code",
   "execution_count": null,
   "metadata": {},
   "outputs": [],
   "source": [
    "values_changed = inserts[0][12:].split('(')\n",
    "z = values_changed[1:]\n",
    "# Parse this list until we hit values to get genre ids\n",
    "falsify = True\n",
    "idx = 0\n",
    "\n",
    "while falsify and idx < len(z):\n",
    "    if ' VALUES' in z[idx]:\n",
    "        cur = z[idx+1:]\n",
    "        \n",
    "    idx += 1\n",
    "\n",
    "values = ''.join(cur)[:-2].split(',')\n",
    "print(values)"
   ]
  },
  {
   "cell_type": "code",
   "execution_count": null,
   "metadata": {},
   "outputs": [],
   "source": [
    "start_time = time.time()\n",
    "conn = sqlite3.connect(database_2)\n",
    "cursor = conn.cursor()\n",
    "\n",
    "insert_data = []\n",
    "\n",
    "for i in range(len(inserts)):\n",
    "    table = inserts[i][12:].split('(')[0]\n",
    "   \n",
    "    values_changed = inserts[i][12+len(table) + 1:]\n",
    "    values_changed = values_changed[:values_changed.find(') VALUES')]\n",
    "    z = values_changed[1:]\n",
    "    falsify = True\n",
    "    idx = 0\n",
    "    while falsify and idx < len(z):\n",
    "        if ' VALUES' in z[idx]:\n",
    "            cur = z[idx+1:]\n",
    "            \n",
    "        idx += 1\n",
    "    \n",
    "    values = ''.join(cur)[:-2].split(',')\n",
    "    print(f\"{values} of type {values_changed} into {table}\")\n",
    "    insert_data.append((table, values, values_changed))\n",
    "\n",
    "cursor.close()\n",
    "conn.close()\n",
    "print(\"--- %s seconds ---\" % (time.time() - start_time))"
   ]
  },
  {
   "cell_type": "code",
   "execution_count": null,
   "metadata": {},
   "outputs": [],
   "source": [
    "start_time = time.time()\n",
    "conn = sqlite3.connect(database_1)\n",
    "cursor = conn.cursor()\n",
    "\n",
    "delete_data = []\n",
    "\n",
    "for i in range(len(deletes)):\n",
    "    rest = deletes[i][12:]\n",
    "    table = rest.split()[0]\n",
    "    rest = rest[len(table) + 1:]\n",
    "    primaryKey, ID = rest.split()[1].split('=')\n",
    "    ID = ID[:-1]\n",
    "    print('Deleted ', primaryKey, ':',  ID)\n",
    "    cursor.execute(f\"SELECT * FROM {table} WHERE {primaryKey}={ID};\")\n",
    "    print(cursor.fetchall())\n",
    "    delete_data.append([table, primaryKey, ID])\n",
    "\n",
    "cursor.close()\n",
    "conn.close()\n",
    "print(\"--- %s seconds ---\" % (time.time() - start_time))"
   ]
  },
  {
   "cell_type": "code",
   "execution_count": null,
   "metadata": {},
   "outputs": [],
   "source": [
    "conn = sqlite3.connect(database_1)\n",
    "cursor = conn.cursor()\n",
    "conn2 = sqlite3.connect(database_2)\n",
    "cursor2 = conn2.cursor()\n",
    "\n",
    "update_data = []\n",
    "\n",
    "for i in range(len(updates)):\n",
    "    table = updates[i].split()[1]\n",
    "    print(table)\n",
    "    Primarykey, ID = updates[i].split('WHERE ')[-1][:-1].split('=')\n",
    "    print('Updated:', Primarykey, ID)\n",
    "    rest = updates[i][updates[i].find('SET') + 4:]\n",
    "    rest[:rest.find(' WHERE ')]\n",
    "    cursor.execute(f\"SELECT * FROM {table} WHERE {Primarykey}={ID};\")\n",
    "    print(cursor.fetchall())\n",
    "    cursor2.execute(f\"SELECT * FROM {table} WHERE {Primarykey}={ID};\")\n",
    "    print(cursor2.fetchall())\n",
    "    update_data.append([table, Primarykey, ID])\n",
    "\n",
    "cursor.close()\n",
    "conn.close()\n",
    "cursor2.close()\n",
    "conn2.close()"
   ]
  },
  {
   "cell_type": "code",
   "execution_count": null,
   "metadata": {},
   "outputs": [],
   "source": [
    "insert_data, delete_data, update_data"
   ]
  },
  {
   "cell_type": "code",
   "execution_count": null,
   "metadata": {},
   "outputs": [],
   "source": [
    "import pandas as pd\n",
    "\n",
    "df = pd.DataFrame(insert_data, columns=['Table', 'Primary Key', 'ID'])\n",
    "df['type'] = 'insert'\n",
    "df2 = pd.DataFrame(delete_data, columns=['Table', 'Primary Key', 'ID'])\n",
    "df2['type'] = 'delete'\n",
    "df3 = pd.DataFrame(update_data, columns=['Table', 'Primary Key', 'ID'])\n",
    "df3['type'] = 'update'\n",
    "\n",
    "df = pd.concat([df, df2, df3], ignore_index=True)\n",
    "df"
   ]
  }
 ],
 "metadata": {
  "kernelspec": {
   "display_name": "Python 3",
   "language": "python",
   "name": "python3"
  },
  "language_info": {
   "codemirror_mode": {
    "name": "ipython",
    "version": 3
   },
   "file_extension": ".py",
   "mimetype": "text/x-python",
   "name": "python",
   "nbconvert_exporter": "python",
   "pygments_lexer": "ipython3",
   "version": "3.9.13"
  }
 },
 "nbformat": 4,
 "nbformat_minor": 4
}
