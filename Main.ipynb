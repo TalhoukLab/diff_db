{
 "cells": [
  {
   "cell_type": "markdown",
   "metadata": {},
   "source": [
    "# Differences Between 2 SQLite Databases"
   ]
  },
  {
   "cell_type": "markdown",
   "metadata": {},
   "source": [
    "## Overview"
   ]
  },
  {
   "cell_type": "markdown",
   "metadata": {},
   "source": [
    "The following is the intended structure of the notebook we want to obtain a csv file that contains the differences between two SQLite databases. The databases are assumed to have the same schema, but different data. The csv file should contain the following columns:"
   ]
  },
  {
   "cell_type": "markdown",
   "metadata": {},
   "source": [
    "``` csv\n",
    "Table Name, Primary Key, Value, Column Name, Old Value, New Value, Type\n",
    "Users, ID, 78, Name, Null, John, Insert\n",
    "Users, ID, 78, Age, Null, 25, Insert\n",
    "Users, ID, 78, Name, John, Null, Delete\n",
    "Users, ID, 78, Age, 25, Null, Delete\n",
    "Users, ID, 78, Name, Jack, John, Update\n",
    "Users, ID, 78, Age, 25, 26, Update\n",
    "```"
   ]
  },
  {
   "cell_type": "markdown",
   "metadata": {},
   "source": [
    "## Code"
   ]
  },
  {
   "cell_type": "markdown",
   "metadata": {},
   "source": [
    "### Imports"
   ]
  },
  {
   "cell_type": "code",
   "execution_count": null,
   "metadata": {},
   "outputs": [],
   "source": [
    "from bokeh.io import show, output_notebook\n",
    "from bokeh.plotting import figure\n",
    "import subprocess\n",
    "import sqlite3\n",
    "import time\n",
    "import pandas as pd\n",
    "\n",
    "output_notebook()"
   ]
  },
  {
   "cell_type": "markdown",
   "metadata": {},
   "source": [
    "### Initial Setup"
   ]
  },
  {
   "cell_type": "code",
   "execution_count": null,
   "metadata": {},
   "outputs": [],
   "source": [
    "database_1 = \"./Data/test.db\"\n",
    "database_2 = \"./Data/test2.db\""
   ]
  },
  {
   "cell_type": "code",
   "execution_count": null,
   "metadata": {},
   "outputs": [],
   "source": [
    "conn = sqlite3.connect(database_1)\n",
    "cursor = conn.cursor()\n",
    "cursor.execute(\"SELECT name FROM sqlite_master WHERE type='table';\")\n",
    "table_names = cursor.fetchall()\n",
    "table_names\n",
    "\n",
    "cursor.close()\n",
    "conn.close()\n",
    "\n",
    "for name in table_names:\n",
    "    print(name[0])\n",
    "\n",
    "return_code = subprocess.check_output([\"./sqldiff.exe\", database_1, database_2])\n",
    "output = return_code.decode(\"utf-8\").splitlines()\n",
    "inserts = [line for line in output if line.startswith(\"INSERT\")]\n",
    "updates = [line for line in output if line.startswith(\"UPDATE\")]\n",
    "deletes = [line for line in output if line.startswith(\"DELETE\")]\n",
    "\n",
    "p = figure(x_range=['inserts', 'updates', 'deletes'],  title=\"Change in records between two databases\")\n",
    "p.vbar(x=['inserts', 'updates', 'deletes'], top=[len(inserts), len(updates), len(deletes)], width=0.9)\n",
    "\n",
    "t = show(p,  notebook_handle=True)\n",
    "\n",
    "tables_altered = {'updated':[], 'insertions':[], 'deletions':[]}\n",
    "total_tables_altered = set()\n",
    "\n",
    "for i in range(len(updates)):\n",
    "    x = updates[i].split()[1]\n",
    "    print(x)\n",
    "    tables_altered.get('updated').append(x)\n",
    "    total_tables_altered.add(x)\n",
    "\n",
    "for i in range(len(inserts)):\n",
    "    x = inserts[i].split()[2].split('(')[0]\n",
    "    print(x)\n",
    "    tables_altered.get('insertions').append(x)\n",
    "    total_tables_altered.add(x)\n",
    "\n",
    "for i in range(len(deletes)):\n",
    "    x = deletes[i].split()[2]\n",
    "    print(x)\n",
    "    tables_altered.get('deletions').append(x)\n",
    "    total_tables_altered.add(x)\n",
    "\n",
    "tables_altered"
   ]
  },
  {
   "cell_type": "markdown",
   "metadata": {},
   "source": [
    "###  Inserts"
   ]
  },
  {
   "cell_type": "code",
   "execution_count": null,
   "metadata": {},
   "outputs": [],
   "source": [
    "start_time = time.time()\n",
    "\n",
    "n_inserts = len(inserts)\n",
    "insert_data = []\n",
    "conn = sqlite3.connect(database_2)\n",
    "cursor = conn.cursor()\n",
    "\n",
    "for i in range(n_inserts):\n",
    "    table_changed = inserts[i].split(\" \")[2].split(\"(\")[0]\n",
    "    table_cols = inserts[i].split(\" \")[2]\n",
    "    all_values = \"\".join(inserts[i].split(\" \")[3:])\n",
    "\n",
    "    cols = \"\".join(table_cols.split(\"(\")[1:])[:-1].split(\",\")\n",
    "    values = \"\".join(all_values.split(\"(\")[1:])[:-2].split(\",\")\n",
    "\n",
    "    cursor.execute(f\"PRAGMA table_info({table_changed})\")\n",
    "    table_info = cursor.fetchall()\n",
    "\n",
    "    for column in table_info:\n",
    "        if column[5] == 1:\n",
    "            primary_key = column[1]\n",
    "            break\n",
    "\n",
    "    cols, values, primary_key\n",
    "    insert_data.append((table_changed, primary_key, cols, values))\n",
    "\n",
    "conn.close()\n",
    "print(\"--- %s seconds ---\" % (time.time() - start_time))"
   ]
  },
  {
   "cell_type": "markdown",
   "metadata": {},
   "source": [
    "The following is the alternative approach that relies on creating an individual row for each column:"
   ]
  },
  {
   "cell_type": "code",
   "execution_count": null,
   "metadata": {},
   "outputs": [],
   "source": [
    "start_time = time.time()\n",
    "\n",
    "n_inserts = len(inserts)\n",
    "insert_data = []\n",
    "conn = sqlite3.connect(database_2)\n",
    "cursor = conn.cursor()\n",
    "\n",
    "for i in range(n_inserts):\n",
    "    table_changed = inserts[i].split(\" \")[2].split(\"(\")[0]\n",
    "    table_cols = inserts[i].split(\" \")[2]\n",
    "    all_values = \"\".join(inserts[i].split(\" \")[3:])\n",
    "\n",
    "    cols = \"\".join(table_cols.split(\"(\")[1:])[:-1].split(\",\")\n",
    "    values = \"\".join(all_values.split(\"(\")[1:])[:-2].split(\",\")\n",
    "\n",
    "    cursor.execute(f\"PRAGMA table_info({table_changed})\")\n",
    "    table_info = cursor.fetchall()\n",
    "\n",
    "    for column in table_info:\n",
    "        if column[5] == 1:\n",
    "            primary_key = column[1]\n",
    "            break\n",
    "\n",
    "    cols, values, primary_key\n",
    "\n",
    "    idx_of = cols.index(primary_key)\n",
    "    \n",
    "    for ijk in range(len(cols)):\n",
    "        insert_data.append([table_changed, primary_key, values[idx_of], cols[ijk], values[ijk]])\n",
    "\n",
    "\n",
    "conn.close()\n",
    "print(\"--- %s seconds ---\" % (time.time() - start_time))\n",
    "insert_data"
   ]
  },
  {
   "cell_type": "code",
   "execution_count": null,
   "metadata": {},
   "outputs": [],
   "source": [
    "df1 = pd.DataFrame(insert_data, columns=['Table Name', 'Primary Key', 'PK Value', 'Column', 'New Value'])\n",
    "df1['Old Value'] = None\n",
    "df1['type'] = 'Insert'\n",
    "\n",
    "df1"
   ]
  },
  {
   "cell_type": "markdown",
   "metadata": {},
   "source": [
    "### Deletes"
   ]
  },
  {
   "cell_type": "code",
   "execution_count": null,
   "metadata": {},
   "outputs": [],
   "source": [
    "if len(deletes) > 0:\n",
    "    table = deletes[0].split(\" \")[2]\n",
    "    primary_key, pk_value = deletes[0].split(\" \")[4][:-1].split(\"=\")\n",
    "\n",
    "    conn = sqlite3.connect(database_1)\n",
    "    cursor = conn.cursor()\n",
    "\n",
    "    old_value = cursor.execute(f\"SELECT * FROM {table} WHERE {primary_key}={pk_value};\").fetchall()\n",
    "    old_value[0]"
   ]
  },
  {
   "cell_type": "code",
   "execution_count": null,
   "metadata": {},
   "outputs": [],
   "source": [
    "start_time = time.time()\n",
    "conn = sqlite3.connect(database_1)\n",
    "cursor = conn.cursor()\n",
    "delete_data = []\n",
    "\n",
    "for i in range(len(deletes)):\n",
    "    table = deletes[i].split(\" \")[2]\n",
    "    primary_key, pk_value = deletes[i].split(\" \")[4][:-1].split(\"=\")\n",
    "\n",
    "    old_value = cursor.execute(f\"SELECT * FROM {table} WHERE {primary_key}={pk_value};\").fetchall()\n",
    "    cols = cursor.execute(f\"PRAGMA table_info({table})\").fetchall()\n",
    "    col_values = [value[1] for value in cols]\n",
    "\n",
    "    for ijk in range(len(old_value[0])):\n",
    "        delete_data.append((table, primary_key, pk_value, col_values[ijk], old_value[0][ijk]))\n",
    "\n",
    "\n",
    "conn.close()\n",
    "print(\"--- %s seconds ---\" % (time.time() - start_time))"
   ]
  },
  {
   "cell_type": "code",
   "execution_count": null,
   "metadata": {},
   "outputs": [],
   "source": [
    "df2 = pd.DataFrame(delete_data, columns=['Table Name', 'Primary Key', 'PK Value', 'Column', 'Old Value'])\n",
    "df2['New Value'] = None\n",
    "df2['type'] = 'Delete'\n",
    "\n",
    "df2"
   ]
  },
  {
   "cell_type": "markdown",
   "metadata": {},
   "source": [
    "### Updates"
   ]
  },
  {
   "cell_type": "code",
   "execution_count": null,
   "metadata": {},
   "outputs": [],
   "source": [
    "if len(updates) > 0:\n",
    "    table_changed = updates[0].split(\" \")[1]\n",
    "    primary_key, pk_value = updates[0].split(\" \")[-1][:-1].split(\"=\")\n",
    "    [value.split(\"=\") for value in \"\".join(updates[0].split(\" \")[3:-2]).split(\",\")]\n",
    "    cols_changed = [value.split(\"=\")[0] for value in \"\".join(updates[0].split(\" \")[3:-2]).split(\",\")]\n",
    "\n",
    "    conn = sqlite3.connect(database_1)\n",
    "    cursor = conn.cursor()\n",
    "    conn2 = sqlite3.connect(database_2)\n",
    "    cursor2 = conn2.cursor()\n",
    "\n",
    "    for col in cols_changed:\n",
    "        cursor.execute(f\"SELECT {col} FROM {table_changed} WHERE {primary_key}={pk_value};\")\n",
    "        old_values = cursor.fetchall()[0][0]\n",
    "        print(old_values)\n",
    "\n",
    "        cursor2.execute(f\"SELECT {col} FROM {table_changed} WHERE {primary_key}={pk_value};\")\n",
    "        new_values = cursor2.fetchall()[0][0]\n",
    "        print(new_values)"
   ]
  },
  {
   "cell_type": "code",
   "execution_count": null,
   "metadata": {},
   "outputs": [],
   "source": [
    "conn = sqlite3.connect(database_1)\n",
    "cursor = conn.cursor()\n",
    "conn2 = sqlite3.connect(database_2)\n",
    "cursor2 = conn2.cursor()\n",
    "\n",
    "update_data = []\n",
    "\n",
    "for i in range(len(updates)):\n",
    "    table_changed = updates[i].split(\" \")[1]\n",
    "    primary_key, pk_value = updates[i].split(\" \")[-1][:-1].split(\"=\")\n",
    "    [value.split(\"=\") for value in \"\".join(updates[i].split(\" \")[3:-2]).split(\",\")]\n",
    "    cols_changed = [value.split(\"=\")[0] for value in \"\".join(updates[i].split(\" \")[3:-2]).split(\",\")]\n",
    "    \n",
    "    for col_num in range(len(cols_changed)):\n",
    "        cursor.execute(f\"SELECT {cols_changed[col_num]} FROM {table_changed} WHERE {primary_key}={pk_value};\")\n",
    "        old_values = cursor.fetchall()[0][0]\n",
    "\n",
    "        cursor2.execute(f\"SELECT {cols_changed[col_num]} FROM {table_changed} WHERE {primary_key}={pk_value};\")\n",
    "        new_values = cursor2.fetchall()[0][0]\n",
    "    \n",
    "        update_data.append((table_changed, primary_key, pk_value, cols_changed[col_num], old_values, new_values))\n",
    "        \n",
    "\n",
    "cursor.close()\n",
    "conn.close()\n",
    "cursor2.close()\n",
    "conn2.close()"
   ]
  },
  {
   "cell_type": "code",
   "execution_count": null,
   "metadata": {},
   "outputs": [],
   "source": [
    "update_data"
   ]
  },
  {
   "cell_type": "code",
   "execution_count": null,
   "metadata": {},
   "outputs": [],
   "source": [
    "df3 = pd.DataFrame(update_data, columns=['Table Name', 'Primary Key', 'PK Value', 'Column', 'Old Value', 'New Value'])\n",
    "df3['type'] = 'Update'\n",
    "\n",
    "df3"
   ]
  },
  {
   "cell_type": "markdown",
   "metadata": {},
   "source": [
    "### Conversion to CSV"
   ]
  },
  {
   "cell_type": "code",
   "execution_count": null,
   "metadata": {},
   "outputs": [],
   "source": [
    "df = pd.concat([df1, df2, df3], ignore_index=True)\n",
    "df"
   ]
  },
  {
   "cell_type": "code",
   "execution_count": null,
   "metadata": {},
   "outputs": [],
   "source": [
    "df.to_csv('changes.csv', index=False)"
   ]
  }
 ],
 "metadata": {
  "kernelspec": {
   "display_name": "Python 3",
   "language": "python",
   "name": "python3"
  },
  "language_info": {
   "codemirror_mode": {
    "name": "ipython",
    "version": 3
   },
   "file_extension": ".py",
   "mimetype": "text/x-python",
   "name": "python",
   "nbconvert_exporter": "python",
   "pygments_lexer": "ipython3",
   "version": "3.9.13"
  }
 },
 "nbformat": 4,
 "nbformat_minor": 2
}
